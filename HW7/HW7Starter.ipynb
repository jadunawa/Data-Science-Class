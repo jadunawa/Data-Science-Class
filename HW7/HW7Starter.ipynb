{
 "cells": [
  {
   "cell_type": "markdown",
   "metadata": {},
   "source": [
    "# Assignment 7 - Machine Learning\n",
    "### This assignment is focused on both applying machine learning methods using scikit-learn, and validating their performance.\n",
    "\n",
    "This is a paired assignment; the same rules apply as for previous paired\n",
    "assignments.  There is no requirement that you work with the same partner as on\n",
    "the previous assignment; in fact, I encourage you to switch around who you work\n",
    "with, since this will be good practice for being a data scientist who needs to\n",
    "work with a diverse group of collaborators.\n",
    "\n",
    "The goal of this assignment is to get some practice using Scikit-learn to apply\n",
    "machine various learning algorithms to data in a sensible way.  This will\n",
    "involve both the creation and evaluation of potential solutions to machine\n",
    "learning problems.  It is important to not only train a model, but also to\n",
    "validate that model; otherwise, your results won't be trustworthy.\n",
    "\n",
    "The basic steps you will follow are:\n",
    "\n",
    "    1. Load some data\n",
    "    2. Pre-process as necessary\n",
    "    3. Format data for scikit-learn\n",
    "    4. Train & validate models using scikit-learn"
   ]
  },
  {
   "cell_type": "markdown",
   "metadata": {},
   "source": [
    "### Basic Imports\n",
    "This is the stuff we've been using all along"
   ]
  },
  {
   "cell_type": "code",
   "execution_count": 1,
   "metadata": {
    "collapsed": true
   },
   "outputs": [],
   "source": [
    "import pandas as pd\n",
    "import numpy as np\n",
    "import matplotlib.pyplot as plt\n",
    "%matplotlib notebook"
   ]
  },
  {
   "cell_type": "markdown",
   "metadata": {},
   "source": [
    "### Load some data\n",
    "As we've seen, there are lots of ways we can load data using Pandas.  Here, we're going to load up a dataset that doesn't require much pre-processing (i.e. it's clean enough that we don't need to mess with it too much)"
   ]
  },
  {
   "cell_type": "code",
   "execution_count": 2,
   "metadata": {
    "collapsed": true
   },
   "outputs": [],
   "source": [
    "# NOTE: the data file doesn't have a header with column names, so we'll set \n",
    "# them up manually based on the data description (see file 'covtype.info')\n",
    "\n",
    "#TODO: fill in with something meaningful\n",
    "colNames = ['Elevation', 'Aspect', 'Slope', 'Horizontal_Distance_To_Hydrology', 'Vertical_Distance_To_Hydrology', 'Horizontal_Distance_To_Roadways', 'Hillshade_9am', 'Hillshade_Noon', 'Hillshade_3pm', 'Horizontal_Distance_To_Fire_Points', 'Wilderness_Area1', 'Wilderness_Area2','Wilderness_Area3','Wilderness_Area4']\n",
    "\n",
    "for i in range(0,40):\n",
    "    colNames.extend([i])\n",
    "    \n",
    "colNames.extend(['Cover_Type'])"
   ]
  },
  {
   "cell_type": "markdown",
   "metadata": {},
   "source": [
    "### TODO - data description\n",
    "Before you start working with the data, you should try to understand what actual problem the data represent.  You should be able to figure this out by looking at the 'covtype.info' file.  You should put a summary of the most salient points here.  Don't just copy/paste from the file, it's got way too much information in it, and lots of that information is not strictly relevant to a high-level understanding of the problem."
   ]
  },
  {
   "cell_type": "code",
   "execution_count": 3,
   "metadata": {},
   "outputs": [
    {
     "data": {
      "text/html": [
       "<div>\n",
       "<style>\n",
       "    .dataframe thead tr:only-child th {\n",
       "        text-align: right;\n",
       "    }\n",
       "\n",
       "    .dataframe thead th {\n",
       "        text-align: left;\n",
       "    }\n",
       "\n",
       "    .dataframe tbody tr th {\n",
       "        vertical-align: top;\n",
       "    }\n",
       "</style>\n",
       "<table border=\"1\" class=\"dataframe\">\n",
       "  <thead>\n",
       "    <tr style=\"text-align: right;\">\n",
       "      <th></th>\n",
       "      <th>Elevation</th>\n",
       "      <th>Aspect</th>\n",
       "      <th>Slope</th>\n",
       "      <th>Horizontal_Distance_To_Hydrology</th>\n",
       "      <th>Vertical_Distance_To_Hydrology</th>\n",
       "      <th>Horizontal_Distance_To_Roadways</th>\n",
       "      <th>Hillshade_9am</th>\n",
       "      <th>Hillshade_Noon</th>\n",
       "      <th>Hillshade_3pm</th>\n",
       "      <th>Horizontal_Distance_To_Fire_Points</th>\n",
       "      <th>...</th>\n",
       "      <th>31</th>\n",
       "      <th>32</th>\n",
       "      <th>33</th>\n",
       "      <th>34</th>\n",
       "      <th>35</th>\n",
       "      <th>36</th>\n",
       "      <th>37</th>\n",
       "      <th>38</th>\n",
       "      <th>39</th>\n",
       "      <th>Cover_Type</th>\n",
       "    </tr>\n",
       "  </thead>\n",
       "  <tbody>\n",
       "    <tr>\n",
       "      <th>0</th>\n",
       "      <td>2596</td>\n",
       "      <td>51</td>\n",
       "      <td>3</td>\n",
       "      <td>258</td>\n",
       "      <td>0</td>\n",
       "      <td>510</td>\n",
       "      <td>221</td>\n",
       "      <td>232</td>\n",
       "      <td>148</td>\n",
       "      <td>6279</td>\n",
       "      <td>...</td>\n",
       "      <td>0</td>\n",
       "      <td>0</td>\n",
       "      <td>0</td>\n",
       "      <td>0</td>\n",
       "      <td>0</td>\n",
       "      <td>0</td>\n",
       "      <td>0</td>\n",
       "      <td>0</td>\n",
       "      <td>0</td>\n",
       "      <td>5</td>\n",
       "    </tr>\n",
       "    <tr>\n",
       "      <th>1</th>\n",
       "      <td>2590</td>\n",
       "      <td>56</td>\n",
       "      <td>2</td>\n",
       "      <td>212</td>\n",
       "      <td>-6</td>\n",
       "      <td>390</td>\n",
       "      <td>220</td>\n",
       "      <td>235</td>\n",
       "      <td>151</td>\n",
       "      <td>6225</td>\n",
       "      <td>...</td>\n",
       "      <td>0</td>\n",
       "      <td>0</td>\n",
       "      <td>0</td>\n",
       "      <td>0</td>\n",
       "      <td>0</td>\n",
       "      <td>0</td>\n",
       "      <td>0</td>\n",
       "      <td>0</td>\n",
       "      <td>0</td>\n",
       "      <td>5</td>\n",
       "    </tr>\n",
       "    <tr>\n",
       "      <th>2</th>\n",
       "      <td>2804</td>\n",
       "      <td>139</td>\n",
       "      <td>9</td>\n",
       "      <td>268</td>\n",
       "      <td>65</td>\n",
       "      <td>3180</td>\n",
       "      <td>234</td>\n",
       "      <td>238</td>\n",
       "      <td>135</td>\n",
       "      <td>6121</td>\n",
       "      <td>...</td>\n",
       "      <td>0</td>\n",
       "      <td>0</td>\n",
       "      <td>0</td>\n",
       "      <td>0</td>\n",
       "      <td>0</td>\n",
       "      <td>0</td>\n",
       "      <td>0</td>\n",
       "      <td>0</td>\n",
       "      <td>0</td>\n",
       "      <td>2</td>\n",
       "    </tr>\n",
       "    <tr>\n",
       "      <th>3</th>\n",
       "      <td>2785</td>\n",
       "      <td>155</td>\n",
       "      <td>18</td>\n",
       "      <td>242</td>\n",
       "      <td>118</td>\n",
       "      <td>3090</td>\n",
       "      <td>238</td>\n",
       "      <td>238</td>\n",
       "      <td>122</td>\n",
       "      <td>6211</td>\n",
       "      <td>...</td>\n",
       "      <td>0</td>\n",
       "      <td>0</td>\n",
       "      <td>0</td>\n",
       "      <td>0</td>\n",
       "      <td>0</td>\n",
       "      <td>0</td>\n",
       "      <td>0</td>\n",
       "      <td>0</td>\n",
       "      <td>0</td>\n",
       "      <td>2</td>\n",
       "    </tr>\n",
       "    <tr>\n",
       "      <th>4</th>\n",
       "      <td>2595</td>\n",
       "      <td>45</td>\n",
       "      <td>2</td>\n",
       "      <td>153</td>\n",
       "      <td>-1</td>\n",
       "      <td>391</td>\n",
       "      <td>220</td>\n",
       "      <td>234</td>\n",
       "      <td>150</td>\n",
       "      <td>6172</td>\n",
       "      <td>...</td>\n",
       "      <td>0</td>\n",
       "      <td>0</td>\n",
       "      <td>0</td>\n",
       "      <td>0</td>\n",
       "      <td>0</td>\n",
       "      <td>0</td>\n",
       "      <td>0</td>\n",
       "      <td>0</td>\n",
       "      <td>0</td>\n",
       "      <td>5</td>\n",
       "    </tr>\n",
       "  </tbody>\n",
       "</table>\n",
       "<p>5 rows × 55 columns</p>\n",
       "</div>"
      ],
      "text/plain": [
       "   Elevation  Aspect  Slope  Horizontal_Distance_To_Hydrology  \\\n",
       "0       2596      51      3                               258   \n",
       "1       2590      56      2                               212   \n",
       "2       2804     139      9                               268   \n",
       "3       2785     155     18                               242   \n",
       "4       2595      45      2                               153   \n",
       "\n",
       "   Vertical_Distance_To_Hydrology  Horizontal_Distance_To_Roadways  \\\n",
       "0                               0                              510   \n",
       "1                              -6                              390   \n",
       "2                              65                             3180   \n",
       "3                             118                             3090   \n",
       "4                              -1                              391   \n",
       "\n",
       "   Hillshade_9am  Hillshade_Noon  Hillshade_3pm  \\\n",
       "0            221             232            148   \n",
       "1            220             235            151   \n",
       "2            234             238            135   \n",
       "3            238             238            122   \n",
       "4            220             234            150   \n",
       "\n",
       "   Horizontal_Distance_To_Fire_Points     ...      31  32  33  34  35  36  37  \\\n",
       "0                                6279     ...       0   0   0   0   0   0   0   \n",
       "1                                6225     ...       0   0   0   0   0   0   0   \n",
       "2                                6121     ...       0   0   0   0   0   0   0   \n",
       "3                                6211     ...       0   0   0   0   0   0   0   \n",
       "4                                6172     ...       0   0   0   0   0   0   0   \n",
       "\n",
       "   38  39  Cover_Type  \n",
       "0   0   0           5  \n",
       "1   0   0           5  \n",
       "2   0   0           2  \n",
       "3   0   0           2  \n",
       "4   0   0           5  \n",
       "\n",
       "[5 rows x 55 columns]"
      ]
     },
     "execution_count": 3,
     "metadata": {},
     "output_type": "execute_result"
    }
   ],
   "source": [
    "# read in the actual dataset\n",
    "data = pd.read_csv('covtype.data', header=None, names=colNames)\n",
    "data.head()"
   ]
  },
  {
   "cell_type": "markdown",
   "metadata": {},
   "source": [
    "### Separate out the features we'll use to train our model from the 'target' variable we're trying to predict\n",
    "Make two new table views, one which drops the final column (i.e. 'Cover_Type'), and the other which contains *only* the final column.  Call the first one 'features' and the second one 'target'."
   ]
  },
  {
   "cell_type": "code",
   "execution_count": 4,
   "metadata": {
    "collapsed": true
   },
   "outputs": [],
   "source": [
    "features=data.drop(['Cover_Type'], axis=1)\n",
    "target=data.Cover_Type"
   ]
  },
  {
   "cell_type": "markdown",
   "metadata": {},
   "source": [
    "### Format the data for scikit-learn\n",
    "Scikit-learn requires that input be given as numpy arrays.  Fortunately, Pandas dataframes have a parameter '.values' that will give you the contents of the table formatted as a numpy array; use that to generate numpy versions of your 'features' and 'target' variables.  Call them 'X' and 'y' respectively."
   ]
  },
  {
   "cell_type": "code",
   "execution_count": 5,
   "metadata": {
    "collapsed": true
   },
   "outputs": [],
   "source": [
    "x=features.values\n",
    "y=target.values"
   ]
  },
  {
   "cell_type": "markdown",
   "metadata": {},
   "source": [
    "### Import some classifiers from scikit-learn\n",
    "We're going to import several classifiers so we can compare them, as well as some model selection tools that will let us do validation"
   ]
  },
  {
   "cell_type": "code",
   "execution_count": 9,
   "metadata": {},
   "outputs": [],
   "source": [
    "from sklearn import tree\n",
    "from sklearn import neighbors\n",
    "from sklearn import model_selection"
   ]
  },
  {
   "cell_type": "markdown",
   "metadata": {},
   "source": [
    "### Try out two different classifiers, and see how well they perform\n",
    "Try out the classifiers 'svm.SVC' and 'neighbors.KNeighborsClassifier'.  If you don't give them any explicit parameters, they'll use defaults, which is fine for now.  Try fitting each to the whole data set, and then testing them on the whole data set.\n",
    "\n",
    "See the posted example from class before break, and also the online documentation for scikit learn:\n",
    "\n",
    "http://scikit-learn.org/stable/modules/svm.html#classification\n",
    "\n",
    "http://scikit-learn.org/stable/modules/neighbors.html#nearest-neighbors-classification\n"
   ]
  },
  {
   "cell_type": "code",
   "execution_count": 20,
   "metadata": {},
   "outputs": [
    {
     "name": "stdout",
     "output_type": "stream",
     "text": [
      "1.0\n",
      "0.987480465119\n"
     ]
    }
   ],
   "source": [
    "tree_classifier=tree.DecisionTreeClassifier()\n",
    "tree_classifier.fit(x,y)\n",
    "print(tree_classifier.score(x,y))\n",
    "\n",
    "neighbors_classifier=neighbors.KNeighborsClassifier()\n",
    "neighbors_classifier.fit(x,y)\n",
    "print(neighbors_classifier.score(x,y))"
   ]
  },
  {
   "cell_type": "markdown",
   "metadata": {},
   "source": [
    "### Now use cross-validation to see how well they are actually doing on novel data\n",
    "The idea of cross-validation is to try splitting the data several times and seeing not only how well the algorithm does on the unseen part of the data, but also seeing how consistent it is across different splits.  Try using 5 folds (i.e. use the parameter 'cv=5').\n",
    "\n",
    "This will return a list of accuracy scores; be sure to print out both the mean and the standard deviation of this list.\n",
    "\n",
    "See the documentation for further details:\n",
    "\n",
    "http://scikit-learn.org/stable/modules/cross_validation.html"
   ]
  },
  {
   "cell_type": "code",
   "execution_count": 21,
   "metadata": {},
   "outputs": [
    {
     "name": "stdout",
     "output_type": "stream",
     "text": [
      "[ 0.51696571  0.57238993  0.5230805   0.57206909  0.6060241 ]\n",
      "Mean: 0.558105864684\n",
      "StDev: 0.0335095570404\n",
      "[ 0.47899832  0.50715122  0.49105007  0.52219     0.54680723]\n",
      "Mean: 0.509239366804\n",
      "StDev: 0.0237856884632\n"
     ]
    }
   ],
   "source": [
    "from sklearn.model_selection import cross_val_score\n",
    "\n",
    "scores = cross_val_score(tree_classifier, x, y, cv=5)\n",
    "print(scores)\n",
    "print('Mean:',np.mean(scores))\n",
    "print('StDev:',np.std(scores))\n",
    "\n",
    "scores = cross_val_score(neighbors_classifier, x, y, cv=5)\n",
    "print(scores)\n",
    "print('Mean:',np.mean(scores))\n",
    "print('StDev:',np.std(scores))"
   ]
  }
 ],
 "metadata": {
  "kernelspec": {
   "display_name": "Python 3",
   "language": "python",
   "name": "python3"
  },
  "language_info": {
   "codemirror_mode": {
    "name": "ipython",
    "version": 3
   },
   "file_extension": ".py",
   "mimetype": "text/x-python",
   "name": "python",
   "nbconvert_exporter": "python",
   "pygments_lexer": "ipython3",
   "version": "3.6.3"
  }
 },
 "nbformat": 4,
 "nbformat_minor": 2
}
