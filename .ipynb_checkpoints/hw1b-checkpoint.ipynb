{
 "cells": [
  {
   "cell_type": "code",
   "execution_count": 4,
   "metadata": {
    "collapsed": true
   },
   "outputs": [],
   "source": [
    "a = [1, 2, 3]\n",
    "b = [3, 7, -2, 5]\n",
    "c = [22, 3, 97, 12, 15, 72, 8, 34, 60]"
   ]
  },
  {
   "cell_type": "code",
   "execution_count": 18,
   "metadata": {},
   "outputs": [],
   "source": [
    "lst = c"
   ]
  },
  {
   "cell_type": "code",
   "execution_count": 19,
   "metadata": {},
   "outputs": [
    {
     "name": "stdout",
     "output_type": "stream",
     "text": [
      "22\n",
      "3\n",
      "97\n",
      "12\n",
      "15\n",
      "72\n",
      "8\n",
      "34\n",
      "60\n",
      "('total is:', 323)\n"
     ]
    }
   ],
   "source": [
    "total = 0\n",
    "for x in lst:\n",
    "    print(x)\n",
    "    total = total + x\n",
    "    \n",
    "print('total is:', total)"
   ]
  },
  {
   "cell_type": "code",
   "execution_count": 20,
   "metadata": {
    "collapsed": true
   },
   "outputs": [
    {
     "name": "stdout",
     "output_type": "stream",
     "text": [
      "('minValue is: ', 3)\n"
     ]
    }
   ],
   "source": [
    "minValue=lst[0]\n",
    "for x in lst:\n",
    "    if(x<minValue):\n",
    "        minValue=x\n",
    "print('minValue is: ', minValue)"
   ]
  },
  {
   "cell_type": "code",
   "execution_count": 21,
   "metadata": {},
   "outputs": [
    {
     "name": "stdout",
     "output_type": "stream",
     "text": [
      "('maxValue is: ', 97)\n"
     ]
    }
   ],
   "source": [
    "maxValue=lst[0]\n",
    "for x in lst:\n",
    "    if(x>maxValue):\n",
    "        maxValue=x\n",
    "print('maxValue is: ', maxValue)"
   ]
  },
  {
   "cell_type": "code",
   "execution_count": 22,
   "metadata": {},
   "outputs": [
    {
     "name": "stdout",
     "output_type": "stream",
     "text": [
      "('meanValue is: ', 35)\n"
     ]
    }
   ],
   "source": [
    "meanValue=total/len(lst)\n",
    "print('meanValue is: ', meanValue)"
   ]
  },
  {
   "cell_type": "code",
   "execution_count": null,
   "metadata": {},
   "outputs": [],
   "source": []
  }
 ],
 "metadata": {
  "kernelspec": {
   "display_name": "Python 2",
   "language": "python",
   "name": "python2"
  },
  "language_info": {
   "codemirror_mode": {
    "name": "ipython",
    "version": 2
   },
   "file_extension": ".py",
   "mimetype": "text/x-python",
   "name": "python",
   "nbconvert_exporter": "python",
   "pygments_lexer": "ipython2",
   "version": "2.7.14"
  }
 },
 "nbformat": 4,
 "nbformat_minor": 2
}
